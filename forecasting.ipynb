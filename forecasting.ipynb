{
  "nbformat": 4,
  "nbformat_minor": 0,
  "metadata": {
    "colab": {
      "name": "forecasting.ipynb",
      "version": "0.3.2",
      "provenance": [],
      "collapsed_sections": []
    },
    "kernelspec": {
      "name": "python3",
      "display_name": "Python 3"
    }
  },
  "cells": [
    {
      "metadata": {
        "id": "0DxMSpIfTISh",
        "colab_type": "text"
      },
      "cell_type": "markdown",
      "source": [
        "# **本研究使用 LSTM(Long Short Term Memory) 模型，預測2019/4/2 ~ 2019/4/8 台電的每日\"電力尖峰負載\"(MW)。**\n",
        "\n",
        "---\n",
        "\n",
        "\n"
      ]
    },
    {
      "metadata": {
        "id": "8mdpv6_82NFG",
        "colab_type": "text"
      },
      "cell_type": "markdown",
      "source": [
        "## 匯入所需模組:"
      ]
    },
    {
      "metadata": {
        "id": "y-YW8-3nSvIW",
        "colab_type": "code",
        "colab": {}
      },
      "cell_type": "code",
      "source": [
        "import pandas as pd\n",
        "import numpy as np\n",
        "from keras.models import Model\n",
        "from keras.layers import Input, Dense, Dropout, Activation, Flatten, LSTM\n",
        "from keras.optimizers import Adam\n",
        "import keras\n",
        "from sklearn.model_selection import train_test_split\n",
        "from sklearn.metrics import mean_squared_error\n",
        "from math import sqrt"
      ],
      "execution_count": 0,
      "outputs": []
    },
    {
      "metadata": {
        "id": "oZUTtAJI2SuG",
        "colab_type": "text"
      },
      "cell_type": "markdown",
      "source": [
        "## 使用Pandas讀取資料:"
      ]
    },
    {
      "metadata": {
        "id": "tBV3pRkh2YCm",
        "colab_type": "code",
        "colab": {}
      },
      "cell_type": "code",
      "source": [
        "raw_data = pd.read_csv('data/BasicData.csv')\n",
        "data = raw_data['peak load(MW)']"
      ],
      "execution_count": 0,
      "outputs": []
    },
    {
      "metadata": {
        "id": "i3IA1AJZ2Yum",
        "colab_type": "text"
      },
      "cell_type": "markdown",
      "source": [
        "## 定義標準化資料、標準化還原之function"
      ]
    },
    {
      "metadata": {
        "id": "Cdc1toBA3G-H",
        "colab_type": "code",
        "colab": {}
      },
      "cell_type": "code",
      "source": [
        "def normalize(x):\n",
        "  return (x - result_mean) / result_std\n",
        "\n",
        "def unnormalize(x):\n",
        "  return x * result_std + result_mean"
      ],
      "execution_count": 0,
      "outputs": []
    },
    {
      "metadata": {
        "id": "NfRkcrc0TGRc",
        "colab_type": "text"
      },
      "cell_type": "markdown",
      "source": [
        "## 資料前處理:\n",
        "1.將資料整理成每三十天為一個序列，以前29天預測未來1天的形式\n",
        "2.計算平均值、標準差，用來標準化、還原\n",
        "3.以 80/20 拆分訓練、測試資料"
      ]
    },
    {
      "metadata": {
        "id": "Z-j-M1x43Pl3",
        "colab_type": "code",
        "colab": {}
      },
      "cell_type": "code",
      "source": [
        "\n",
        "# Set how many days should be use to predict single day\n",
        "sequence_length = 30\n",
        "result = []\n",
        "for index in range(len(data) - sequence_length):\n",
        "    result.append(data[index: index + sequence_length])\n",
        "\n",
        "# convert to numpy array\n",
        "result = np.array(result, dtype='float64')\n",
        "\n",
        "# save mean and standard deviation for normalization\n",
        "result_mean = result.mean()\n",
        "result_std = np.std(result)\n",
        "\n",
        "# normalize the data\n",
        "norm_result = normalize(result)\n",
        "\n",
        "# split training and testing data\n",
        "train_x, test_x, train_y, test_y = train_test_split(norm_result[:,:-1], norm_result[:,-1], test_size=0.2, random_state=0)\n",
        "train_x = np.reshape(train_x, (train_x.shape[0], train_x.shape[1], 1))\n",
        "test_x = np.reshape(test_x, (test_x.shape[0], test_x.shape[1], 1))\n"
      ],
      "execution_count": 0,
      "outputs": []
    },
    {
      "metadata": {
        "id": "7TlhKLi838Xn",
        "colab_type": "text"
      },
      "cell_type": "markdown",
      "source": [
        "## 建立LSTM模型，使用兩層LSTM，最後接上一層Dense作為輸出層，使用ADAM優化演算法，Loss Function使用MSE(Mean Squared Error)，訓練 100 個epochs"
      ]
    },
    {
      "metadata": {
        "id": "QZrLYEkv381X",
        "colab_type": "code",
        "colab": {}
      },
      "cell_type": "code",
      "source": [
        "# build LSTM model and train the model\n",
        "IN = Input(shape=(train_x.shape[1],1))\n",
        "lstm1 = LSTM(10, return_sequences=True)(IN)\n",
        "lstm2 = LSTM(15, return_sequences=False)(lstm1)\n",
        "OUT = Dense(1, activation='linear')(lstm2)\n",
        "model = Model(inputs=IN, outputs=OUT)\n",
        "model.compile(loss=\"mse\", optimizer=\"adam\")\n",
        "model.fit(train_x, train_y, epochs=100)"
      ],
      "execution_count": 0,
      "outputs": []
    },
    {
      "metadata": {
        "id": "c-rfpWU94d94",
        "colab_type": "text"
      },
      "cell_type": "markdown",
      "source": [
        "## 使用Testing驗證模型，計算RMSE(Root Mean Squared Error)"
      ]
    },
    {
      "metadata": {
        "id": "k5S1sYCj4eEV",
        "colab_type": "code",
        "colab": {}
      },
      "cell_type": "code",
      "source": [
        "# 預測Testing資料\n",
        "predict = model.predict(test_x)\n",
        "predict = np.reshape(predict, (predict.size,))\n",
        "\n",
        "#標準化還原\n",
        "unnorm_predict = unnormalize(predict)\n",
        "unnorm_test_y = unnormalize(test_y)\n",
        "\n",
        "#計算RMSE\n",
        "RMS = sqrt(mean_squared_error(unnorm_test_y, unnorm_predict))\n",
        "print(RMS)"
      ],
      "execution_count": 0,
      "outputs": []
    },
    {
      "metadata": {
        "id": "MLh9axSz40FV",
        "colab_type": "text"
      },
      "cell_type": "markdown",
      "source": [
        "## 定義預測未來之Function，輸入欲預測之天數(days) 及其前面之 sequence_length 日之資料，返回未來 days 天之預測值"
      ]
    },
    {
      "metadata": {
        "id": "dUqqfGaW40KP",
        "colab_type": "code",
        "colab": {}
      },
      "cell_type": "code",
      "source": [
        "def predict_n_day(days, previous_data):\n",
        "    previous_data = normalize(previous_data)\n",
        "    for i in range(0, days):\n",
        "      p = model.predict(np.expand_dims(previous_data[i : i+sequence_length], axis=0))\n",
        "      previous_data = np.concatenate([previous_data, p])\n",
        "    return unnormalize(previous_data[-days:])"
      ],
      "execution_count": 0,
      "outputs": []
    },
    {
      "metadata": {
        "id": "tItsCzGA5LTg",
        "colab_type": "text"
      },
      "cell_type": "markdown",
      "source": [
        "## 取出最後 sequence_length 天之資料，預測未來7日\n"
      ]
    },
    {
      "metadata": {
        "id": "o3eMAtPe5LXl",
        "colab_type": "code",
        "colab": {}
      },
      "cell_type": "code",
      "source": [
        "previous_data = data[-sequence_length+1:].values\n",
        "previous_data = np.expand_dims(previous_data, axis=1)\n",
        "\n",
        "predicted = predict_n_day(days=7, previous_data=previous_data)\n",
        "predicted = predicted.astype(int)"
      ],
      "execution_count": 0,
      "outputs": []
    },
    {
      "metadata": {
        "id": "-IuqfB-R5bFd",
        "colab_type": "text"
      },
      "cell_type": "markdown",
      "source": [
        "## 將未來7日之預測值按照作業要求格式寫入submission.csv"
      ]
    },
    {
      "metadata": {
        "id": "LW190GOd5bJI",
        "colab_type": "code",
        "colab": {}
      },
      "cell_type": "code",
      "source": [
        "# Creat submission.csv\n",
        "date = [i for i in range(20190402, 20190409)]\n",
        "peak_load = predicted.flatten()\n",
        "df = pd.DataFrame({'date':date, 'peak_load(MW)':peak_load})\n",
        "df.to_csv('submission.csv', index=False)"
      ],
      "execution_count": 0,
      "outputs": []
    }
  ]
}